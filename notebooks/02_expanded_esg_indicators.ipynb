{
 "cells": [
  {
   "cell_type": "markdown",
   "metadata": {},
   "source": [
    "# Expanded ESG Indicators Analysis\n",
    "\n",
    "This notebook analyzes the expanded ESG indicators derived from established frameworks:\n",
    "1. **GRI Standards** - Global Reporting Initiative indicators\n",
    "2. **SASB Standards** - Sustainability Accounting Standards Board indicators\n",
    "3. **TCFD Framework** - Task Force on Climate-related Financial Disclosures\n",
    "4. **Additional ESG Frameworks** - Other recognized standards\n",
    "\n",
    "This complements the ontology-derived indicators with comprehensive framework-based metrics."
   ]
  },
  {
   "cell_type": "code",
   "execution_count": null,
   "metadata": {},
   "outputs": [],
   "source": [
    "# Install required packages if not already installed\n",
    "# !pip install pandas matplotlib seaborn plotly"
   ]
  },
  {
   "cell_type": "code",
   "execution_count": null,
   "metadata": {},
   "outputs": [],
   "source": [
    "import sys\n",
    "sys.path.append('../src')\n",
    "\n",
    "import pandas as pd\n",
    "import json\n",
    "import matplotlib.pyplot as plt\n",
    "import seaborn as sns\n",
    "import plotly.express as px\n",
    "import plotly.graph_objects as go\n",
    "from pathlib import Path\n",
    "from collections import Counter"
   ]
  },
  {
   "cell_type": "markdown",
   "metadata": {},
   "source": [
    "## 1. Load Expanded ESG Indicators"
   ]
  },
  {
   "cell_type": "code",
   "execution_count": null,
   "metadata": {},
   "outputs": [],
   "source": [
    "# Load the expanded ESG indicators\n",
    "indicators_path = Path('../data/indicators/expanded_esg_indicators.csv')\n",
    "indicators_df = pd.read_csv(indicators_path)\n",
    "\n",
    "print(f\"Loaded {len(indicators_df)} expanded ESG indicators\")\n",
    "print(f\"Columns: {list(indicators_df.columns)}\")\n",
    "indicators_df.head()"
   ]
  },
  {
   "cell_type": "code",
   "execution_count": null,
   "metadata": {},
   "outputs": [],
   "source": [
    "# Load the JSON version for detailed analysis\n",
    "json_path = Path('../data/indicators/expanded_esg_indicators.json')\n",
    "with open(json_path, 'r') as f:\n",
    "    indicators_json = json.load(f)\n",
    "\n",
    "print(f\"JSON structure keys: {list(indicators_json.keys())}\")\n",
    "if 'indicators' in indicators_json:\n",
    "    print(f\"Total indicators in JSON: {len(indicators_json['indicators'])}\")\n",
    "    print(f\"Example indicator: {list(indicators_json['indicators'].keys())[0]}\")"
   ]
  },
  {
   "cell_type": "markdown",
   "metadata": {},
   "source": [
    "## 2. Framework Distribution Analysis"
   ]
  },
  {
   "cell_type": "code",
   "execution_count": null,
   "metadata": {},
   "outputs": [],
   "source": [
    "# Analyze framework distribution\n",
    "framework_counts = indicators_df['Framework'].value_counts()\n",
    "print(\"Framework Distribution:\")\n",
    "print(framework_counts)\n",
    "\n",
    "# Visualize framework distribution\n",
    "plt.figure(figsize=(10, 6))\n",
    "framework_counts.plot(kind='bar', color=['#2E8B57', '#4682B4', '#DAA520', '#CD853F'])\n",
    "plt.title('Distribution of ESG Indicators by Framework')\n",
    "plt.xlabel('Framework')\n",
    "plt.ylabel('Number of Indicators')\n",
    "plt.xticks(rotation=45)\n",
    "plt.tight_layout()\n",
    "plt.show()"
   ]
  },
  {
   "cell_type": "code",
   "execution_count": null,
   "metadata": {},
   "outputs": [],
   "source": [
    "# Create an interactive pie chart\n",
    "fig = px.pie(values=framework_counts.values, \n",
    "             names=framework_counts.index,\n",
    "             title='ESG Indicators by Framework',\n",
    "             color_discrete_sequence=['#2E8B57', '#4682B4', '#DAA520', '#CD853F'])\n",
    "fig.show()"
   ]
  },
  {
   "cell_type": "markdown",
   "metadata": {},
   "source": [
    "## 3. Category Analysis"
   ]
  },
  {
   "cell_type": "code",
   "execution_count": null,
   "metadata": {},
   "outputs": [],
   "source": [
    "# Analyze category distribution\n",
    "category_counts = indicators_df['Category'].value_counts()\n",
    "print(\"Category Distribution:\")\n",
    "print(category_counts)\n",
    "\n",
    "# Visualize category distribution\n",
    "plt.figure(figsize=(10, 6))\n",
    "category_counts.plot(kind='bar', color=['#228B22', '#4169E1', '#B8860B'])\n",
    "plt.title('Distribution of ESG Indicators by Category')\n",
    "plt.xlabel('ESG Category')\n",
    "plt.ylabel('Number of Indicators')\n",
    "plt.xticks(rotation=0)\n",
    "plt.tight_layout()\n",
    "plt.show()"
   ]
  },
  {
   "cell_type": "code",
   "execution_count": null,
   "metadata": {},
   "outputs": [],
   "source": [
    "# Cross-tabulation of Framework vs Category\n",
    "cross_tab = pd.crosstab(indicators_df['Framework'], indicators_df['Category'])\n",
    "print(\"Framework vs Category Cross-tabulation:\")\n",
    "print(cross_tab)\n",
    "\n",
    "# Visualize as heatmap\n",
    "plt.figure(figsize=(10, 6))\n",
    "sns.heatmap(cross_tab, annot=True, cmap='Blues', fmt='d')\n",
    "plt.title('ESG Indicators: Framework vs Category')\n",
    "plt.tight_layout()\n",
    "plt.show()"
   ]
  },
  {
   "cell_type": "markdown",
   "metadata": {},
   "source": [
    "## 4. Detailed Framework Analysis"
   ]
  },
  {
   "cell_type": "code",
   "execution_count": null,
   "metadata": {},
   "outputs": [],
   "source": [
    "# Analyze GRI indicators\n",
    "gri_indicators = indicators_df[indicators_df['Framework'] == 'GRI']\n",
    "print(f\"GRI Indicators ({len(gri_indicators)}):\")\n",
    "gri_categories = gri_indicators['Category'].value_counts()\n",
    "print(gri_categories)\n",
    "\n",
    "print(\"Sample GRI indicators:\")\n",
    "for _, indicator in gri_indicators.head(5).iterrows():\n",
    "    print(f\"- {indicator['Indicator']}: {indicator['Description'][:100]}...\")"
   ]
  },
  {
   "cell_type": "code",
   "execution_count": null,
   "metadata": {},
   "outputs": [],
   "source": [
    "# Analyze SASB indicators\n",
    "sasb_indicators = indicators_df[indicators_df['Framework'] == 'SASB']\n",
    "print(f\"SASB Indicators ({len(sasb_indicators)}):\")\n",
    "sasb_categories = sasb_indicators['Category'].value_counts()\n",
    "print(sasb_categories)\n",
    "\n",
    "print(\"Sample SASB indicators:\")\n",
    "for _, indicator in sasb_indicators.head(5).iterrows():\n",
    "    print(f\"- {indicator['Indicator']}: {indicator['Description'][:100]}...\")"
   ]
  },
  {
   "cell_type": "code",
   "execution_count": null,
   "metadata": {},
   "outputs": [],
   "source": [
    "# Analyze TCFD indicators\n",
    "tcfd_indicators = indicators_df[indicators_df['Framework'] == 'TCFD']\n",
    "print(f\"TCFD Indicators ({len(tcfd_indicators)}):\")\n",
    "tcfd_categories = tcfd_indicators['Category'].value_counts()\n",
    "print(tcfd_categories)\n",
    "\n",
    "print(\"Sample TCFD indicators:\")\n",
    "for _, indicator in tcfd_indicators.head(5).iterrows():\n",
    "    print(f\"- {indicator['Indicator']}: {indicator['Description'][:100]}...\")"
   ]
  },
  {
   "cell_type": "markdown",
   "metadata": {},
   "source": [
    "## 5. Indicator Complexity Analysis"
   ]
  },
  {
   "cell_type": "code",
   "execution_count": null,
   "metadata": {},
   "outputs": [],
   "source": [
    "# Analyze description lengths as a proxy for complexity\n",
    "indicators_df['description_length'] = indicators_df['Description'].str.len()\n",
    "\n",
    "print(\"Description Length Statistics:\")\n",
    "print(indicators_df['description_length'].describe())\n",
    "\n",
    "# Visualize description lengths by framework\n",
    "plt.figure(figsize=(12, 6))\n",
    "sns.boxplot(data=indicators_df, x='Framework', y='description_length')\n",
    "plt.title('Indicator Description Length by Framework')\n",
    "plt.ylabel('Description Length (characters)')\n",
    "plt.xticks(rotation=45)\n",
    "plt.tight_layout()\n",
    "plt.show()"
   ]
  },
  {
   "cell_type": "code",
   "execution_count": null,
   "metadata": {},
   "outputs": [],
   "source": [
    "# Analyze common keywords in descriptions\n",
    "from collections import Counter\n",
    "import re\n",
    "\n",
    "# Extract keywords from descriptions\n",
    "all_descriptions = ' '.join(indicators_df['Description'].astype(str))\n",
    "words = re.findall(r'\\b\\w{4,}\\b', all_descriptions.lower())\n",
    "\n",
    "# Remove common stop words\n",
    "stop_words = {'that', 'with', 'from', 'they', 'been', 'have', 'this', 'will', 'would', 'could', 'should', 'their', 'there', 'where', 'when', 'what', 'which', 'while'}\n",
    "filtered_words = [word for word in words if word not in stop_words]\n",
    "\n",
    "word_counts = Counter(filtered_words)\n",
    "top_keywords = word_counts.most_common(20)\n",
    "\n",
    "print(\"Top 20 Keywords in ESG Indicator Descriptions:\")\n",
    "for word, count in top_keywords:\n",
    "    print(f\"{word}: {count}\")"
   ]
  },
  {
   "cell_type": "markdown",
   "metadata": {},
   "source": [
    "## 6. Source and Reference Analysis"
   ]
  },
  {
   "cell_type": "code",
   "execution_count": null,
   "metadata": {},
   "outputs": [],
   "source": [
    "# Analyze sources\n",
    "if 'Source' in indicators_df.columns:\n",
    "    source_counts = indicators_df['Source'].value_counts()\n",
    "    print(\"Source Distribution:\")\n",
    "    print(source_counts.head(10))\n",
    "    \n",
    "    # Visualize top sources\n",
    "    plt.figure(figsize=(12, 6))\n",
    "    source_counts.head(10).plot(kind='bar')\n",
    "    plt.title('Top 10 Sources for ESG Indicators')\n",
    "    plt.xlabel('Source')\n",
    "    plt.ylabel('Number of Indicators')\n",
    "    plt.xticks(rotation=45)\n",
    "    plt.tight_layout()\n",
    "    plt.show()\n",
    "else:\n",
    "    print(\"No 'Source' column found in the dataset\")"
   ]
  },
  {
   "cell_type": "markdown",
   "metadata": {},
   "source": [
    "## 7. Integration with Ontology Indicators"
   ]
  },
  {
   "cell_type": "code",
   "execution_count": null,
   "metadata": {},
   "outputs": [],
   "source": [
    "# Load ontology indicators for comparison\n",
    "ontology_path = Path('../data/indicators/esg_indicators_mapping.csv')\n",
    "if ontology_path.exists():\n",
    "    ontology_df = pd.read_csv(ontology_path)\n",
    "    \n",
    "    print(f\"Ontology indicators: {len(ontology_df)}\")\n",
    "    print(f\"Expanded indicators: {len(indicators_df)}\")\n",
    "    print(f\"Total combined indicators: {len(ontology_df) + len(indicators_df)}\")\n",
    "    \n",
    "    # Compare categories\n",
    "    print(\"\\nOntology categories:\")\n",
    "    print(ontology_df['Category'].value_counts())\n",
    "    \n",
    "    print(\"\\nExpanded framework categories:\")\n",
    "    print(indicators_df['Category'].value_counts())\n",
    "else:\n",
    "    print(\"Ontology indicators file not found. Run the ontology analysis notebook first.\")"
   ]
  },
  {
   "cell_type": "code",
   "execution_count": null,
   "metadata": {},
   "outputs": [],
   "source": [
    "# Create a comprehensive indicator summary\n",
    "summary = {\n",
    "    'expanded_indicators': {\n",
    "        'total': len(indicators_df),\n",
    "        'by_framework': framework_counts.to_dict(),\n",
    "        'by_category': category_counts.to_dict()\n",
    "    }\n",
    "}\n",
    "\n",
    "if ontology_path.exists():\n",
    "    summary['ontology_indicators'] = {\n",
    "        'total': len(ontology_df),\n",
    "        'by_category': ontology_df['Category'].value_counts().to_dict()\n",
    "    }\n",
    "    summary['combined_total'] = len(ontology_df) + len(indicators_df)\n",
    "\n",
    "print(\"Comprehensive ESG Indicator Summary:\")\n",
    "print(json.dumps(summary, indent=2))"
   ]
  },
  {
   "cell_type": "markdown",
   "metadata": {},
   "source": [
    "## 8. Export Analysis Results"
   ]
  },
  {
   "cell_type": "code",
   "execution_count": null,
   "metadata": {},
   "outputs": [],
   "source": [
    "# Save analysis results\n",
    "output_dir = Path('../data/indicators')\n",
    "\n",
    "# Save summary statistics\n",
    "with open(output_dir / 'expanded_indicators_analysis.json', 'w') as f:\n",
    "    json.dump(summary, f, indent=2)\n",
    "\n",
    "# Save framework statistics\n",
    "framework_stats = pd.DataFrame({\n",
    "    'Framework': framework_counts.index,\n",
    "    'Count': framework_counts.values,\n",
    "    'Percentage': (framework_counts.values / len(indicators_df) * 100).round(2)\n",
    "})\n",
    "framework_stats.to_csv(output_dir / 'framework_statistics.csv', index=False)\n",
    "\n",
    "# Save category statistics\n",
    "category_stats = pd.DataFrame({\n",
    "    'Category': category_counts.index,\n",
    "    'Count': category_counts.values,\n",
    "    'Percentage': (category_counts.values / len(indicators_df) * 100).round(2)\n",
    "})\n",
    "category_stats.to_csv(output_dir / 'category_statistics.csv', index=False)\n",
    "\n",
    "print(f\"Analysis results saved to: {output_dir}\")\n",
    "print(f\"- Summary: expanded_indicators_analysis.json\")\n",
    "print(f\"- Framework stats: framework_statistics.csv\")\n",
    "print(f\"- Category stats: category_statistics.csv\")"
   ]
  },
  {
   "cell_type": "markdown",
   "metadata": {},
   "source": [
    "## Summary\n",
    "\n",
    "This notebook analyzes **46 comprehensive ESG indicators** from established frameworks:\n",
    "\n",
    "### Framework Coverage:\n",
    "- **GRI Standards**: Global sustainability reporting guidelines\n",
    "- **SASB Standards**: Industry-specific sustainability metrics\n",
    "- **TCFD Framework**: Climate-related financial disclosures\n",
    "- **Additional Standards**: Other recognized ESG frameworks\n",
    "\n",
    "### Key Insights:\n",
    "1. **Comprehensive Coverage**: Indicators span Environmental, Social, and Governance domains\n",
    "2. **Industry Relevance**: SASB indicators provide sector-specific metrics\n",
    "3. **Climate Focus**: TCFD indicators address climate-related risks and opportunities\n",
    "4. **Global Standards**: GRI indicators ensure international comparability\n",
    "\n",
    "### Integration with Ontology:\n",
    "- **Combined Total**: ~97 indicators (51 ontology + 46 framework-based)\n",
    "- **Complementary Coverage**: Ontology provides semantic structure, frameworks provide practical metrics\n",
    "- **Model Training**: Both sets can be used for comprehensive ESG extraction model training\n",
    "\n",
    "## Next Steps\n",
    "\n",
    "1. **Data Preparation**: Create training datasets using both indicator sets\n",
    "2. **Model Development**: Fine-tune FinBERT using comprehensive indicator coverage\n",
    "3. **Evaluation**: Test extraction performance on corporate reports\n",
    "4. **Integration**: Combine ontology-based semantic understanding with framework-based practical metrics"
   ]
  }
 ],
 "metadata": {
  "kernelspec": {
   "display_name": "Python 3",
   "language": "python",
   "name": "python3"
  },
  "language_info": {
   "codemirror_mode": {
    "name": "ipython",
    "version": 3
   },
   "file_extension": ".py",
   "mimetype": "text/x-python",
   "name": "python",
   "nbconvert_exporter": "python",
   "pygments_lexer": "ipython3",
   "version": "3.8.5"
  }
 },
 "nbformat": 4,
 "nbformat_minor": 4
}