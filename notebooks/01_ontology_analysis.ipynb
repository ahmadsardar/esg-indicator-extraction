{
 "cells": [
  {
   "cell_type": "markdown",
   "metadata": {},
   "source": [
    "# ESG Ontology Analysis\n",
    "\n",
    "This notebook analyzes the ESG ontology to understand:\n",
    "1. What ESG indicators are defined in the ontology\n",
    "2. How they are categorized (Environmental, Social, Governance)\n",
    "3. Their relationships and properties\n",
    "4. How to use them for creating comprehensive ESG extraction models\n",
    "\n",
    "**Updated**: Now uses the enhanced ontology analyzer that extracts 51 comprehensive indicators from the ontology."
   ]
  },
  {
   "cell_type": "code",
   "execution_count": null,
   "metadata": {},
   "outputs": [],
   "source": [
    "# Install required packages if not already installed\n",
    "# !pip install rdflib pandas matplotlib seaborn"
   ]
  },
  {
   "cell_type": "code",
   "execution_count": null,
   "metadata": {},
   "outputs": [],
   "source": [
    "import sys\n",
    "sys.path.append('../src')\n",
    "\n",
    "from ontology_analyzer import EnhancedESGOntologyAnalyzer\n",
    "import pandas as pd\n",
    "import json\n",
    "import matplotlib.pyplot as plt\n",
    "import seaborn as sns\n",
    "from pathlib import Path"
   ]
  },
  {
   "cell_type": "markdown",
   "metadata": {},
   "source": [
    "## 1. Load and Analyze the ESG Ontology"
   ]
  },
  {
   "cell_type": "code",
   "execution_count": null,
   "metadata": {},
   "outputs": [],
   "source": [
    "# Initialize the enhanced ontology analyzer\n",
    "ontology_path = \"../../esgontology.owl\"\n",
    "analyzer = EnhancedESGOntologyAnalyzer(ontology_path)\n",
    "\n",
    "# Load the ontology\n",
    "if analyzer.load_ontology():\n",
    "    print(\"Ontology loaded successfully!\")\n",
    "else:\n",
    "    print(\"Failed to load ontology\")"
   ]
  },
  {
   "cell_type": "code",
   "execution_count": null,
   "metadata": {},
   "outputs": [],
   "source": [
    "# Perform complete analysis\n",
    "analysis_result = analyzer.analyze_ontology()\n",
    "\n",
    "# Display summary statistics\n",
    "print(\"=== ESG Ontology Analysis Summary ===\")\n",
    "for key, value in analysis_result['summary'].items():\n",
    "    print(f\"{key.replace('_', ' ').title()}: {value}\")"
   ]
  },
  {
   "cell_type": "markdown",
   "metadata": {},
   "source": [
    "## 2. Explore ESG Indicators"
   ]
  },
  {
   "cell_type": "code",
   "execution_count": null,
   "metadata": {},
   "outputs": [],
   "source": [
    "# Create indicator mapping DataFrame\n",
    "indicators_df = analyzer.create_indicator_mapping(analysis_result)\n",
    "print(f\"Found {len(indicators_df)} indicators in the ontology\")\n",
    "indicators_df.head(10)"
   ]
  },
  {
   "cell_type": "code",
   "execution_count": null,
   "metadata": {},
   "outputs": [],
   "source": [
    "# Analyze indicator types\n",
    "type_counts = indicators_df['Type'].value_counts()\n",
    "print(\"Indicator Types:\")\n",
    "print(type_counts)\n",
    "\n",
    "# Visualize\n",
    "plt.figure(figsize=(10, 6))\n",
    "type_counts.plot(kind='bar')\n",
    "plt.title('Distribution of ESG Indicator Types')\n",
    "plt.xlabel('Indicator Type')\n",
    "plt.ylabel('Count')\n",
    "plt.xticks(rotation=45)\n",
    "plt.tight_layout()\n",
    "plt.show()"
   ]
  },
  {
   "cell_type": "markdown",
   "metadata": {},
   "source": [
    "## 3. Analyze Categories and Domains"
   ]
  },
  {
   "cell_type": "code",
   "execution_count": null,
   "metadata": {},
   "outputs": [],
   "source": [
    "# Analyze category distribution\n",
    "category_counts = indicators_df['Category'].value_counts()\n",
    "print(\"Category Distribution:\")\n",
    "print(category_counts)\n",
    "\n",
    "# Visualize\n",
    "plt.figure(figsize=(12, 8))\n",
    "category_counts.plot(kind='bar')\n",
    "plt.title('Distribution of ESG Categories')\n",
    "plt.xlabel('Category')\n",
    "plt.ylabel('Number of Indicators')\n",
    "plt.xticks(rotation=45)\n",
    "plt.tight_layout()\n",
    "plt.show()"
   ]
  },
  {
   "cell_type": "markdown",
   "metadata": {},
   "source": [
    "## 4. Key ESG Indicators by Domain"
   ]
  },
  {
   "cell_type": "code",
   "execution_count": null,
   "metadata": {},
   "outputs": [],
   "source": [
    "# Focus on environmental indicators\n",
    "environmental_keywords = ['energy', 'waste', 'water', 'carbon', 'emission', 'efficiency', 'environmental', 'climate', 'ghg']\n",
    "environmental_indicators = indicators_df[\n",
    "    indicators_df['Name'].str.lower().str.contains('|'.join(environmental_keywords), na=False)\n",
    "]\n",
    "\n",
    "print(f\"Environmental Indicators ({len(environmental_indicators)}):\")\n",
    "for _, indicator in environmental_indicators.iterrows():\n",
    "    print(f\"- {indicator['Name']}: {indicator['Label']}\")\n",
    "    if len(environmental_indicators) > 10:\n",
    "        break"
   ]
  },
  {
   "cell_type": "code",
   "execution_count": null,
   "metadata": {},
   "outputs": [],
   "source": [
    "# Focus on social indicators\n",
    "social_keywords = ['employee', 'safety', 'diversity', 'training', 'health', 'human', 'labor', 'community']\n",
    "social_indicators = indicators_df[\n",
    "    indicators_df['Name'].str.lower().str.contains('|'.join(social_keywords), na=False)\n",
    "]\n",
    "\n",
    "print(f\"Social Indicators ({len(social_indicators)}):\")\n",
    "for _, indicator in social_indicators.iterrows():\n",
    "    print(f\"- {indicator['Name']}: {indicator['Label']}\")\n",
    "    if len(social_indicators) > 10:\n",
    "        break"
   ]
  },
  {
   "cell_type": "code",
   "execution_count": null,
   "metadata": {},
   "outputs": [],
   "source": [
    "# Focus on governance indicators\n",
    "governance_keywords = ['board', 'governance', 'compliance', 'ethics', 'transparency', 'corruption', 'corporate']\n",
    "governance_indicators = indicators_df[\n",
    "    indicators_df['Name'].str.lower().str.contains('|'.join(governance_keywords), na=False)\n",
    "]\n",
    "\n",
    "print(f\"Governance Indicators ({len(governance_indicators)}):\")\n",
    "for _, indicator in governance_indicators.iterrows():\n",
    "    print(f\"- {indicator['Name']}: {indicator['Label']}\")\n",
    "    if len(governance_indicators) > 10:\n",
    "        break"
   ]
  },
  {
   "cell_type": "markdown",
   "metadata": {},
   "source": [
    "## 5. Relationships and SDG Mappings"
   ]
  },
  {
   "cell_type": "code",
   "execution_count": null,
   "metadata": {},
   "outputs": [],
   "source": [
    "# Explore relationships\n",
    "if 'relationships' in analysis_result:\n",
    "    print(f\"Found {len(analysis_result['relationships'])} relationships:\")\n",
    "    for rel in analysis_result['relationships']:\n",
    "        print(f\"- {rel}\")\n",
    "\n",
    "# Explore SDG mappings\n",
    "if 'sdg_mappings' in analysis_result:\n",
    "    print(f\"\\nFound {len(analysis_result['sdg_mappings'])} SDG mappings:\")\n",
    "    for mapping in analysis_result['sdg_mappings']:\n",
    "        print(f\"- {mapping}\")"
   ]
  },
  {
   "cell_type": "markdown",
   "metadata": {},
   "source": [
    "## 6. Save Results"
   ]
  },
  {
   "cell_type": "code",
   "execution_count": null,
   "metadata": {},
   "outputs": [],
   "source": [
    "# Save analysis results\n",
    "output_dir = Path('../data/indicators')\n",
    "output_dir.mkdir(exist_ok=True)\n",
    "\n",
    "# Save complete analysis\n",
    "with open(output_dir / 'esg_ontology_analysis.json', 'w') as f:\n",
    "    json.dump(analysis_result, f, indent=2)\n",
    "\n",
    "# Save indicator mapping\n",
    "indicators_df.to_csv(output_dir / 'esg_indicators_mapping.csv', index=False)\n",
    "\n",
    "print(f\"Results saved to: {output_dir}\")\n",
    "print(f\"- Analysis: esg_ontology_analysis.json\")\n",
    "print(f\"- Indicators: esg_indicators_mapping.csv ({len(indicators_df)} indicators)\")"
   ]
  },
  {
   "cell_type": "markdown",
   "metadata": {},
   "source": [
    "## Summary\n",
    "\n",
    "This notebook extracts **51 comprehensive ESG indicators** from the ontology:\n",
    "- **2 explicit Performance Indicators**: EnergyEfficiency, WasteReductionIndicator\n",
    "- **49 ESG Category Concepts**: Environmental, Social, and Governance categories\n",
    "- **Relationships**: Semantic connections between indicators\n",
    "- **SDG Mappings**: Links to UN Sustainable Development Goals\n",
    "\n",
    "## Next Steps\n",
    "\n",
    "1. **Model Training**: Use these 51 ontology-derived indicators for fine-tuning\n",
    "2. **Framework Integration**: Combine with expanded GRI/SASB indicators\n",
    "3. **Context-Aware Extraction**: Leverage semantic relationships for better extraction\n",
    "4. **Evaluation**: Test model performance on corporate reports\n",
    "\n",
    "The ontology provides the semantic foundation for understanding ESG concepts and their relationships."
   ]
  }
 ],
 "metadata": {
  "kernelspec": {
   "display_name": "Python 3",
   "language": "python",
   "name": "python3"
  },
  "language_info": {
   "codemirror_mode": {
    "name": "ipython",
    "version": 3
   },
   "file_extension": ".py",
   "mimetype": "text/x-python",
   "name": "python",
   "nbconvert_exporter": "python",
   "pygments_lexer": "ipython3",
   "version": "3.8.5"
  }
 },
 "nbformat": 4,
 "nbformat_minor": 4
}