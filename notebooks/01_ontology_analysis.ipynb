{
 "cells": [
  {
   "cell_type": "markdown",
   "metadata": {},
   "source": [
    "# ESG Ontology Analysis\n",
    "\n",
    "This notebook analyzes the ESG ontology to understand:\n",
    "1. What ESG indicators are defined\n",
    "2. How they are categorized (Environmental, Social, Governance)\n",
    "3. Their relationships and properties\n",
    "4. How to use them for annotation guidelines"
   ]
  },
  {
   "cell_type": "code",
   "execution_count": null,
   "metadata": {},
   "outputs": [],
   "source": [
    "# Install required packages if not already installed\n",
    "# !pip install rdflib owlready2 pandas matplotlib seaborn"
   ]
  },
  {
   "cell_type": "code",
   "execution_count": null,
   "metadata": {},
   "outputs": [],
   "source": [
    "import sys\n",
    "sys.path.append('../src')\n",
    "\n",
    "from ontology_analyzer import ESGOntologyAnalyzer\n",
    "import pandas as pd\n",
    "import json\n",
    "import matplotlib.pyplot as plt\n",
    "import seaborn as sns\n",
    "from pathlib import Path"
   ]
  },
  {
   "cell_type": "markdown",
   "metadata": {},
   "source": [
    "## 1. Load and Analyze the ESG Ontology"
   ]
  },
  {
   "cell_type": "code",
   "execution_count": null,
   "metadata": {},
   "outputs": [],
   "source": [
    "# Initialize the ontology analyzer\n",
    "ontology_path = \"../../esgontology.owl\"\n",
    "analyzer = ESGOntologyAnalyzer(ontology_path)\n",
    "\n",
    "# Perform complete analysis\n",
    "analysis_result = analyzer.analyze_ontology()"
   ]
  },
  {
   "cell_type": "code",
   "execution_count": null,
   "metadata": {},
   "outputs": [],
   "source": [
    "# Display summary statistics\n",
    "print(\"=== ESG Ontology Analysis Summary ===\")\n",
    "for key, value in analysis_result['summary'].items():\n",
    "    print(f\"{key.replace('_', ' ').title()}: {value}\")"
   ]
  },
  {
   "cell_type": "markdown",
   "metadata": {},
   "source": [
    "## 2. Explore ESG Indicators"
   ]
  },
  {
   "cell_type": "code",
   "execution_count": null,
   "metadata": {},
   "outputs": [],
   "source": [
    "# Create indicator mapping DataFrame\n",
    "indicators_df = analyzer.create_indicator_mapping(analysis_result)\n",
    "print(f\"Found {len(indicators_df)} indicators in the ontology\")\n",
    "indicators_df.head(10)"
   ]
  },
  {
   "cell_type": "code",
   "execution_count": null,
   "metadata": {},
   "outputs": [],
   "source": [
    "# Analyze indicator types\n",
    "type_counts = indicators_df['type'].value_counts()\n",
    "print(\"Indicator Types:\")\n",
    "print(type_counts)\n",
    "\n",
    "# Visualize\n",
    "plt.figure(figsize=(8, 6))\n",
    "type_counts.plot(kind='bar')\n",
    "plt.title('Distribution of ESG Indicator Types')\n",
    "plt.xlabel('Indicator Type')\n",
    "plt.ylabel('Count')\n",
    "plt.xticks(rotation=45)\n",
    "plt.tight_layout()\n",
    "plt.show()"
   ]
  },
  {
   "cell_type": "markdown",
   "metadata": {},
   "source": [
    "## 3. Analyze Categories and Domains"
   ]
  },
  {
   "cell_type": "code",
   "execution_count": null,
   "metadata": {},
   "outputs": [],
   "source": [
    "# Explore categories\n",
    "categories_df = pd.DataFrame.from_dict(analysis_result['categories'], orient='index')\n",
    "print(f\"Found {len(categories_df)} categories\")\n",
    "categories_df.head()"
   ]
  },
  {
   "cell_type": "code",
   "execution_count": null,
   "metadata": {},
   "outputs": [],
   "source": [
    "# Analyze domain distribution\n",
    "domain_counts = categories_df['domain'].value_counts()\n",
    "print(\"Domain Distribution:\")\n",
    "print(domain_counts)\n",
    "\n",
    "# Visualize\n",
    "plt.figure(figsize=(10, 6))\n",
    "domain_counts.plot(kind='bar')\n",
    "plt.title('Distribution of ESG Domains')\n",
    "plt.xlabel('Domain')\n",
    "plt.ylabel('Number of Categories')\n",
    "plt.xticks(rotation=45)\n",
    "plt.tight_layout()\n",
    "plt.show()"
   ]
  },
  {
   "cell_type": "markdown",
   "metadata": {},
   "source": [
    "## 4. Key ESG Indicators for Extraction"
   ]
  },
  {
   "cell_type": "code",
   "execution_count": null,
   "metadata": {},
   "outputs": [],
   "source": [
    "# Focus on key environmental indicators\n",
    "environmental_keywords = ['energy', 'waste', 'water', 'carbon', 'emission', 'efficiency']\n",
    "environmental_indicators = indicators_df[\n",
    "    indicators_df['indicator_name'].str.lower().str.contains('|'.join(environmental_keywords), na=False)\n",
    "]\n",
    "\n",
    "print(\"Key Environmental Indicators:\")\n",
    "for _, indicator in environmental_indicators.iterrows():\n",
    "    print(f\"- {indicator['indicator_name']}: {indicator['label']}\")"
   ]
  },
  {
   "cell_type": "code",
   "execution_count": null,
   "metadata": {},
   "outputs": [],
   "source": [
    "# Focus on social indicators\n",
    "social_keywords = ['employee', 'safety', 'diversity', 'training', 'health']\n",
    "social_indicators = indicators_df[\n",
    "    indicators_df['indicator_name'].str.lower().str.contains('|'.join(social_keywords), na=False)\n",
    "]\n",
    "\n",
    "print(\"Key Social Indicators:\")\n",
    "for _, indicator in social_indicators.iterrows():\n",
    "    print(f\"- {indicator['indicator_name']}: {indicator['label']}\")"
   ]
  },
  {
   "cell_type": "code",
   "execution_count": null,
   "metadata": {},
   "outputs": [],
   "source": [
    "# Focus on governance indicators\n",
    "governance_keywords = ['board', 'governance', 'compliance', 'ethics', 'transparency']\n",
    "governance_indicators = indicators_df[\n",
    "    indicators_df['indicator_name'].str.lower().str.contains('|'.join(governance_keywords), na=False)\n",
    "]\n",
    "\n",
    "print(\"Key Governance Indicators:\")\n",
    "for _, indicator in governance_indicators.iterrows():\n",
    "    print(f\"- {indicator['indicator_name']}: {indicator['label']}\")"
   ]
  },
  {
   "cell_type": "markdown",
   "metadata": {},
   "source": [
    "## 5. Create Annotation Guidelines"
   ]
  },
  {
   "cell_type": "code",
   "execution_count": null,
   "metadata": {},
   "outputs": [],
   "source": [
    "# Create annotation guidelines based on ontology\n",
    "annotation_guidelines = {\n",
    "    'Environmental': {\n",
    "        'indicators': environmental_indicators['indicator_name'].tolist(),\n",
    "        'patterns': [\n",
    "            'Energy consumption: X kWh',\n",
    "            'CO2 emissions: X tonnes',\n",
    "            'Water usage: X liters',\n",
    "            'Waste reduction: X%',\n",
    "            'Energy efficiency: X%'\n",
    "        ]\n",
    "    },\n",
    "    'Social': {\n",
    "        'indicators': social_indicators['indicator_name'].tolist(),\n",
    "        'patterns': [\n",
    "            'Employee count: X',\n",
    "            'Safety incidents: X',\n",
    "            'Training hours: X hours',\n",
    "            'Diversity ratio: X%'\n",
    "        ]\n",
    "    },\n",
    "    'Governance': {\n",
    "        'indicators': governance_indicators['indicator_name'].tolist(),\n",
    "        'patterns': [\n",
    "            'Board independence: X%',\n",
    "            'Compliance score: X',\n",
    "            'Ethics training: X%'\n",
    "        ]\n",
    "    }\n",
    "}\n",
    "\n",
    "print(\"Annotation Guidelines Created:\")\n",
    "for domain, details in annotation_guidelines.items():\n",
    "    print(f\"\\n{domain}:\")\n",
    "    print(f\"  Indicators: {len(details['indicators'])}\")\n",
    "    print(f\"  Example patterns: {details['patterns'][:3]}\")"
   ]
  },
  {
   "cell_type": "markdown",
   "metadata": {},
   "source": [
    "## 6. Save Results"
   ]
  },
  {
   "cell_type": "code",
   "execution_count": null,
   "metadata": {},
   "outputs": [],
   "source": [
    "# Save analysis results\n",
    "output_dir = Path('../data/ontology')\n",
    "output_dir.mkdir(exist_ok=True)\n",
    "\n",
    "# Save complete analysis\n",
    "with open(output_dir / 'esg_ontology_analysis.json', 'w') as f:\n",
    "    json.dump(analysis_result, f, indent=2)\n",
    "\n",
    "# Save indicator mapping\n",
    "indicators_df.to_csv(output_dir / 'esg_indicators_mapping.csv', index=False)\n",
    "\n",
    "# Save annotation guidelines\n",
    "with open(output_dir / 'annotation_guidelines.json', 'w') as f:\n",
    "    json.dump(annotation_guidelines, f, indent=2)\n",
    "\n",
    "print(\"Results saved to:\", output_dir)"
   ]
  },
  {
   "cell_type": "markdown",
   "metadata": {},
   "source": [
    "## Next Steps\n",
    "\n",
    "1. **Manual Annotation**: Use the indicators identified here to manually annotate ESG metrics in your corporate reports\n",
    "2. **Pattern Analysis**: Look for common patterns in how these indicators are presented in documents\n",
    "3. **Training Data**: Create labeled datasets for training your ESG extraction model\n",
    "4. **Model Selection**: Choose appropriate base models (FinBERT, BERT) for fine-tuning\n",
    "\n",
    "The ontology analysis provides the foundation for understanding what ESG indicators to extract and how they relate to each other."
   ]
  }
 ],
 "metadata": {
  "kernelspec": {
   "display_name": "Python 3",
   "language": "python",
   "name": "python3"
  },
  "language_info": {
   "codemirror_mode": {
    "name": "ipython",
    "version": 3
   },
   "file_extension": ".py",
   "mimetype": "text/x-python",
   "name": "python",
   "nbconvert_exporter": "python",
   "pygments_lexer": "ipython3",
   "version": "3.8.5"
  }
 },
 "nbformat": 4,
 "nbformat_minor": 4
}